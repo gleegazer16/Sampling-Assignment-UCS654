{
 "cells": [
  {
   "cell_type": "code",
   "execution_count": null,
   "metadata": {},
   "outputs": [],
   "source": [
    "# Assignment 1"
   ]
  },
  {
   "cell_type": "code",
   "execution_count": 1,
   "metadata": {
    "id": "xWCb1eu5lRB9"
   },
   "outputs": [],
   "source": [
    "import numpy as np\n",
    "import pandas as pd\n",
    "import imblearn \n",
    "import matplotlib.pyplot as plt"
   ]
  },
  {
   "cell_type": "code",
   "execution_count": 2,
   "metadata": {
    "colab": {
     "base_uri": "https://localhost:8080/",
     "height": 255
    },
    "id": "mgHK7fYBlcLl",
    "outputId": "14c5f1a3-56db-422a-d27c-70702617fdac"
   },
   "outputs": [
    {
     "data": {
      "text/html": [
       "<div>\n",
       "<style scoped>\n",
       "    .dataframe tbody tr th:only-of-type {\n",
       "        vertical-align: middle;\n",
       "    }\n",
       "\n",
       "    .dataframe tbody tr th {\n",
       "        vertical-align: top;\n",
       "    }\n",
       "\n",
       "    .dataframe thead th {\n",
       "        text-align: right;\n",
       "    }\n",
       "</style>\n",
       "<table border=\"1\" class=\"dataframe\">\n",
       "  <thead>\n",
       "    <tr style=\"text-align: right;\">\n",
       "      <th></th>\n",
       "      <th>Time</th>\n",
       "      <th>V1</th>\n",
       "      <th>V2</th>\n",
       "      <th>V3</th>\n",
       "      <th>V4</th>\n",
       "      <th>V5</th>\n",
       "      <th>V6</th>\n",
       "      <th>V7</th>\n",
       "      <th>V8</th>\n",
       "      <th>V9</th>\n",
       "      <th>...</th>\n",
       "      <th>V21</th>\n",
       "      <th>V22</th>\n",
       "      <th>V23</th>\n",
       "      <th>V24</th>\n",
       "      <th>V25</th>\n",
       "      <th>V26</th>\n",
       "      <th>V27</th>\n",
       "      <th>V28</th>\n",
       "      <th>Amount</th>\n",
       "      <th>Class</th>\n",
       "    </tr>\n",
       "  </thead>\n",
       "  <tbody>\n",
       "    <tr>\n",
       "      <th>0</th>\n",
       "      <td>0</td>\n",
       "      <td>-1.359807</td>\n",
       "      <td>-0.072781</td>\n",
       "      <td>2.536347</td>\n",
       "      <td>1.378155</td>\n",
       "      <td>-0.338321</td>\n",
       "      <td>0.462388</td>\n",
       "      <td>0.239599</td>\n",
       "      <td>0.098698</td>\n",
       "      <td>0.363787</td>\n",
       "      <td>...</td>\n",
       "      <td>-0.018307</td>\n",
       "      <td>0.277838</td>\n",
       "      <td>-0.110474</td>\n",
       "      <td>0.066928</td>\n",
       "      <td>0.128539</td>\n",
       "      <td>-0.189115</td>\n",
       "      <td>0.133558</td>\n",
       "      <td>-0.021053</td>\n",
       "      <td>149.62</td>\n",
       "      <td>0</td>\n",
       "    </tr>\n",
       "    <tr>\n",
       "      <th>1</th>\n",
       "      <td>0</td>\n",
       "      <td>1.191857</td>\n",
       "      <td>0.266151</td>\n",
       "      <td>0.166480</td>\n",
       "      <td>0.448154</td>\n",
       "      <td>0.060018</td>\n",
       "      <td>-0.082361</td>\n",
       "      <td>-0.078803</td>\n",
       "      <td>0.085102</td>\n",
       "      <td>-0.255425</td>\n",
       "      <td>...</td>\n",
       "      <td>-0.225775</td>\n",
       "      <td>-0.638672</td>\n",
       "      <td>0.101288</td>\n",
       "      <td>-0.339846</td>\n",
       "      <td>0.167170</td>\n",
       "      <td>0.125895</td>\n",
       "      <td>-0.008983</td>\n",
       "      <td>0.014724</td>\n",
       "      <td>2.69</td>\n",
       "      <td>1</td>\n",
       "    </tr>\n",
       "    <tr>\n",
       "      <th>2</th>\n",
       "      <td>1</td>\n",
       "      <td>-1.358354</td>\n",
       "      <td>-1.340163</td>\n",
       "      <td>1.773209</td>\n",
       "      <td>0.379780</td>\n",
       "      <td>-0.503198</td>\n",
       "      <td>1.800499</td>\n",
       "      <td>0.791461</td>\n",
       "      <td>0.247676</td>\n",
       "      <td>-1.514654</td>\n",
       "      <td>...</td>\n",
       "      <td>0.247998</td>\n",
       "      <td>0.771679</td>\n",
       "      <td>0.909412</td>\n",
       "      <td>-0.689281</td>\n",
       "      <td>-0.327642</td>\n",
       "      <td>-0.139097</td>\n",
       "      <td>-0.055353</td>\n",
       "      <td>-0.059752</td>\n",
       "      <td>378.66</td>\n",
       "      <td>0</td>\n",
       "    </tr>\n",
       "    <tr>\n",
       "      <th>3</th>\n",
       "      <td>1</td>\n",
       "      <td>-0.966272</td>\n",
       "      <td>-0.185226</td>\n",
       "      <td>1.792993</td>\n",
       "      <td>-0.863291</td>\n",
       "      <td>-0.010309</td>\n",
       "      <td>1.247203</td>\n",
       "      <td>0.237609</td>\n",
       "      <td>0.377436</td>\n",
       "      <td>-1.387024</td>\n",
       "      <td>...</td>\n",
       "      <td>-0.108300</td>\n",
       "      <td>0.005274</td>\n",
       "      <td>-0.190321</td>\n",
       "      <td>-1.175575</td>\n",
       "      <td>0.647376</td>\n",
       "      <td>-0.221929</td>\n",
       "      <td>0.062723</td>\n",
       "      <td>0.061458</td>\n",
       "      <td>123.50</td>\n",
       "      <td>0</td>\n",
       "    </tr>\n",
       "    <tr>\n",
       "      <th>4</th>\n",
       "      <td>2</td>\n",
       "      <td>-1.158233</td>\n",
       "      <td>0.877737</td>\n",
       "      <td>1.548718</td>\n",
       "      <td>0.403034</td>\n",
       "      <td>-0.407193</td>\n",
       "      <td>0.095921</td>\n",
       "      <td>0.592941</td>\n",
       "      <td>-0.270533</td>\n",
       "      <td>0.817739</td>\n",
       "      <td>...</td>\n",
       "      <td>-0.009431</td>\n",
       "      <td>0.798278</td>\n",
       "      <td>-0.137458</td>\n",
       "      <td>0.141267</td>\n",
       "      <td>-0.206010</td>\n",
       "      <td>0.502292</td>\n",
       "      <td>0.219422</td>\n",
       "      <td>0.215153</td>\n",
       "      <td>69.99</td>\n",
       "      <td>0</td>\n",
       "    </tr>\n",
       "  </tbody>\n",
       "</table>\n",
       "<p>5 rows × 31 columns</p>\n",
       "</div>"
      ],
      "text/plain": [
       "   Time        V1        V2        V3        V4        V5        V6        V7  \\\n",
       "0     0 -1.359807 -0.072781  2.536347  1.378155 -0.338321  0.462388  0.239599   \n",
       "1     0  1.191857  0.266151  0.166480  0.448154  0.060018 -0.082361 -0.078803   \n",
       "2     1 -1.358354 -1.340163  1.773209  0.379780 -0.503198  1.800499  0.791461   \n",
       "3     1 -0.966272 -0.185226  1.792993 -0.863291 -0.010309  1.247203  0.237609   \n",
       "4     2 -1.158233  0.877737  1.548718  0.403034 -0.407193  0.095921  0.592941   \n",
       "\n",
       "         V8        V9  ...       V21       V22       V23       V24       V25  \\\n",
       "0  0.098698  0.363787  ... -0.018307  0.277838 -0.110474  0.066928  0.128539   \n",
       "1  0.085102 -0.255425  ... -0.225775 -0.638672  0.101288 -0.339846  0.167170   \n",
       "2  0.247676 -1.514654  ...  0.247998  0.771679  0.909412 -0.689281 -0.327642   \n",
       "3  0.377436 -1.387024  ... -0.108300  0.005274 -0.190321 -1.175575  0.647376   \n",
       "4 -0.270533  0.817739  ... -0.009431  0.798278 -0.137458  0.141267 -0.206010   \n",
       "\n",
       "        V26       V27       V28  Amount  Class  \n",
       "0 -0.189115  0.133558 -0.021053  149.62      0  \n",
       "1  0.125895 -0.008983  0.014724    2.69      1  \n",
       "2 -0.139097 -0.055353 -0.059752  378.66      0  \n",
       "3 -0.221929  0.062723  0.061458  123.50      0  \n",
       "4  0.502292  0.219422  0.215153   69.99      0  \n",
       "\n",
       "[5 rows x 31 columns]"
      ]
     },
     "execution_count": 2,
     "metadata": {},
     "output_type": "execute_result"
    }
   ],
   "source": [
    "data=pd.read_csv('Creditcard_data.csv')\n",
    "data.head()"
   ]
  },
  {
   "cell_type": "code",
   "execution_count": 3,
   "metadata": {
    "colab": {
     "base_uri": "https://localhost:8080/"
    },
    "id": "jvKoFOualkXy",
    "outputId": "0ed61e0a-b133-4015-85e0-bbcf3f854aff"
   },
   "outputs": [
    {
     "data": {
      "text/plain": [
       "(772, 31)"
      ]
     },
     "execution_count": 3,
     "metadata": {},
     "output_type": "execute_result"
    }
   ],
   "source": [
    "data.shape"
   ]
  },
  {
   "cell_type": "code",
   "execution_count": 4,
   "metadata": {
    "colab": {
     "base_uri": "https://localhost:8080/"
    },
    "id": "bDWV-vhMmpxF",
    "outputId": "1121567a-483e-4aa0-adfa-9cbe2434be97"
   },
   "outputs": [
    {
     "name": "stdout",
     "output_type": "stream",
     "text": [
      "<class 'pandas.core.frame.DataFrame'>\n",
      "RangeIndex: 772 entries, 0 to 771\n",
      "Data columns (total 31 columns):\n",
      " #   Column  Non-Null Count  Dtype  \n",
      "---  ------  --------------  -----  \n",
      " 0   Time    772 non-null    int64  \n",
      " 1   V1      772 non-null    float64\n",
      " 2   V2      772 non-null    float64\n",
      " 3   V3      772 non-null    float64\n",
      " 4   V4      772 non-null    float64\n",
      " 5   V5      772 non-null    float64\n",
      " 6   V6      772 non-null    float64\n",
      " 7   V7      772 non-null    float64\n",
      " 8   V8      772 non-null    float64\n",
      " 9   V9      772 non-null    float64\n",
      " 10  V10     772 non-null    float64\n",
      " 11  V11     772 non-null    float64\n",
      " 12  V12     772 non-null    float64\n",
      " 13  V13     772 non-null    float64\n",
      " 14  V14     772 non-null    float64\n",
      " 15  V15     772 non-null    float64\n",
      " 16  V16     772 non-null    float64\n",
      " 17  V17     772 non-null    float64\n",
      " 18  V18     772 non-null    float64\n",
      " 19  V19     772 non-null    float64\n",
      " 20  V20     772 non-null    float64\n",
      " 21  V21     772 non-null    float64\n",
      " 22  V22     772 non-null    float64\n",
      " 23  V23     772 non-null    float64\n",
      " 24  V24     772 non-null    float64\n",
      " 25  V25     772 non-null    float64\n",
      " 26  V26     772 non-null    float64\n",
      " 27  V27     772 non-null    float64\n",
      " 28  V28     772 non-null    float64\n",
      " 29  Amount  772 non-null    float64\n",
      " 30  Class   772 non-null    int64  \n",
      "dtypes: float64(29), int64(2)\n",
      "memory usage: 187.1 KB\n"
     ]
    }
   ],
   "source": [
    "data.info()"
   ]
  },
  {
   "cell_type": "code",
   "execution_count": 5,
   "metadata": {
    "colab": {
     "base_uri": "https://localhost:8080/"
    },
    "id": "w1XCWCnylmr9",
    "outputId": "dc6ccfa8-2845-4f6b-9135-a7739bf4befe"
   },
   "outputs": [
    {
     "data": {
      "text/plain": [
       "Time      0\n",
       "V1        0\n",
       "V2        0\n",
       "V3        0\n",
       "V4        0\n",
       "V5        0\n",
       "V6        0\n",
       "V7        0\n",
       "V8        0\n",
       "V9        0\n",
       "V10       0\n",
       "V11       0\n",
       "V12       0\n",
       "V13       0\n",
       "V14       0\n",
       "V15       0\n",
       "V16       0\n",
       "V17       0\n",
       "V18       0\n",
       "V19       0\n",
       "V20       0\n",
       "V21       0\n",
       "V22       0\n",
       "V23       0\n",
       "V24       0\n",
       "V25       0\n",
       "V26       0\n",
       "V27       0\n",
       "V28       0\n",
       "Amount    0\n",
       "Class     0\n",
       "dtype: int64"
      ]
     },
     "execution_count": 5,
     "metadata": {},
     "output_type": "execute_result"
    }
   ],
   "source": [
    "data.isnull().sum()"
   ]
  },
  {
   "cell_type": "code",
   "execution_count": 6,
   "metadata": {
    "colab": {
     "base_uri": "https://localhost:8080/"
    },
    "id": "kKKjoHn1mla-",
    "outputId": "3256e040-9db0-4eb7-dc9c-a49b370781e8"
   },
   "outputs": [
    {
     "data": {
      "text/plain": [
       "Class\n",
       "0    763\n",
       "1      9\n",
       "Name: count, dtype: int64"
      ]
     },
     "execution_count": 6,
     "metadata": {},
     "output_type": "execute_result"
    }
   ],
   "source": [
    "data['Class'].value_counts()"
   ]
  },
  {
   "cell_type": "code",
   "execution_count": 7,
   "metadata": {
    "colab": {
     "base_uri": "https://localhost:8080/",
     "height": 447
    },
    "id": "NqOdt-GTnFos",
    "outputId": "6fb5be43-dc9d-4bcc-fdd9-53e36de0ea2a"
   },
   "outputs": [
    {
     "data": {
      "image/png": "[encoded data removed]",
      "text/plain": [
       "<Figure size 640x480 with 1 Axes>"
      ]
     },
     "metadata": {},
     "output_type": "display_data"
    }
   ],
   "source": [
    "data['Class'].value_counts().plot(kind='bar',title='Before balancing the dataset')\n",
    "plt.show()"
   ]
  },
  {
   "cell_type": "code",
   "execution_count": 8,
   "metadata": {
    "id": "El3yn3x8njts"
   },
   "outputs": [],
   "source": [
    "X = data.drop('Class', axis = 1)\n",
    "y = data['Class']"
   ]
  },
  {
   "cell_type": "markdown",
   "metadata": {
    "id": "qgrzquqInr_4"
   },
   "source": [
    "**OVERSAMPLING TECHNIQUE TO BALANCE THE DATASET**"
   ]
  },
  {
   "cell_type": "markdown",
   "metadata": {
    "id": "rflMGvRdpakt"
   },
   "source": [
    "SMOTE used"
   ]
  },
  {
   "cell_type": "code",
   "execution_count": 9,
   "metadata": {
    "id": "XH262NHFnpbD"
   },
   "outputs": [],
   "source": [
    "from imblearn.over_sampling import SMOTE\n",
    "smote=SMOTE()\n",
    "X_newsample,y_newsample=smote.fit_resample(X, y)\n",
    "data_new=X_newsample.join(y_newsample)"
   ]
  },
  {
   "cell_type": "code",
   "execution_count": 10,
   "metadata": {
    "colab": {
     "base_uri": "https://localhost:8080/",
     "height": 443
    },
    "id": "96y5EYf7oq7Q",
    "outputId": "9dfe28d1-b8c1-4cdf-da8b-4254ce23cb6e"
   },
   "outputs": [
    {
     "data": {
      "text/html": [
       "<div>\n",
       "<style scoped>\n",
       "    .dataframe tbody tr th:only-of-type {\n",
       "        vertical-align: middle;\n",
       "    }\n",
       "\n",
       "    .dataframe tbody tr th {\n",
       "        vertical-align: top;\n",
       "    }\n",
       "\n",
       "    .dataframe thead th {\n",
       "        text-align: right;\n",
       "    }\n",
       "</style>\n",
       "<table border=\"1\" class=\"dataframe\">\n",
       "  <thead>\n",
       "    <tr style=\"text-align: right;\">\n",
       "      <th></th>\n",
       "      <th>Time</th>\n",
       "      <th>V1</th>\n",
       "      <th>V2</th>\n",
       "      <th>V3</th>\n",
       "      <th>V4</th>\n",
       "      <th>V5</th>\n",
       "      <th>V6</th>\n",
       "      <th>V7</th>\n",
       "      <th>V8</th>\n",
       "      <th>V9</th>\n",
       "      <th>...</th>\n",
       "      <th>V21</th>\n",
       "      <th>V22</th>\n",
       "      <th>V23</th>\n",
       "      <th>V24</th>\n",
       "      <th>V25</th>\n",
       "      <th>V26</th>\n",
       "      <th>V27</th>\n",
       "      <th>V28</th>\n",
       "      <th>Amount</th>\n",
       "      <th>Class</th>\n",
       "    </tr>\n",
       "  </thead>\n",
       "  <tbody>\n",
       "    <tr>\n",
       "      <th>0</th>\n",
       "      <td>0</td>\n",
       "      <td>-1.359807</td>\n",
       "      <td>-0.072781</td>\n",
       "      <td>2.536347</td>\n",
       "      <td>1.378155</td>\n",
       "      <td>-0.338321</td>\n",
       "      <td>0.462388</td>\n",
       "      <td>0.239599</td>\n",
       "      <td>0.098698</td>\n",
       "      <td>0.363787</td>\n",
       "      <td>...</td>\n",
       "      <td>-0.018307</td>\n",
       "      <td>0.277838</td>\n",
       "      <td>-0.110474</td>\n",
       "      <td>0.066928</td>\n",
       "      <td>0.128539</td>\n",
       "      <td>-0.189115</td>\n",
       "      <td>0.133558</td>\n",
       "      <td>-0.021053</td>\n",
       "      <td>149.620000</td>\n",
       "      <td>0</td>\n",
       "    </tr>\n",
       "    <tr>\n",
       "      <th>1</th>\n",
       "      <td>0</td>\n",
       "      <td>1.191857</td>\n",
       "      <td>0.266151</td>\n",
       "      <td>0.166480</td>\n",
       "      <td>0.448154</td>\n",
       "      <td>0.060018</td>\n",
       "      <td>-0.082361</td>\n",
       "      <td>-0.078803</td>\n",
       "      <td>0.085102</td>\n",
       "      <td>-0.255425</td>\n",
       "      <td>...</td>\n",
       "      <td>-0.225775</td>\n",
       "      <td>-0.638672</td>\n",
       "      <td>0.101288</td>\n",
       "      <td>-0.339846</td>\n",
       "      <td>0.167170</td>\n",
       "      <td>0.125895</td>\n",
       "      <td>-0.008983</td>\n",
       "      <td>0.014724</td>\n",
       "      <td>2.690000</td>\n",
       "      <td>1</td>\n",
       "    </tr>\n",
       "    <tr>\n",
       "      <th>2</th>\n",
       "      <td>1</td>\n",
       "      <td>-1.358354</td>\n",
       "      <td>-1.340163</td>\n",
       "      <td>1.773209</td>\n",
       "      <td>0.379780</td>\n",
       "      <td>-0.503198</td>\n",
       "      <td>1.800499</td>\n",
       "      <td>0.791461</td>\n",
       "      <td>0.247676</td>\n",
       "      <td>-1.514654</td>\n",
       "      <td>...</td>\n",
       "      <td>0.247998</td>\n",
       "      <td>0.771679</td>\n",
       "      <td>0.909412</td>\n",
       "      <td>-0.689281</td>\n",
       "      <td>-0.327642</td>\n",
       "      <td>-0.139097</td>\n",
       "      <td>-0.055353</td>\n",
       "      <td>-0.059752</td>\n",
       "      <td>378.660000</td>\n",
       "      <td>0</td>\n",
       "    </tr>\n",
       "    <tr>\n",
       "      <th>3</th>\n",
       "      <td>1</td>\n",
       "      <td>-0.966272</td>\n",
       "      <td>-0.185226</td>\n",
       "      <td>1.792993</td>\n",
       "      <td>-0.863291</td>\n",
       "      <td>-0.010309</td>\n",
       "      <td>1.247203</td>\n",
       "      <td>0.237609</td>\n",
       "      <td>0.377436</td>\n",
       "      <td>-1.387024</td>\n",
       "      <td>...</td>\n",
       "      <td>-0.108300</td>\n",
       "      <td>0.005274</td>\n",
       "      <td>-0.190321</td>\n",
       "      <td>-1.175575</td>\n",
       "      <td>0.647376</td>\n",
       "      <td>-0.221929</td>\n",
       "      <td>0.062723</td>\n",
       "      <td>0.061458</td>\n",
       "      <td>123.500000</td>\n",
       "      <td>0</td>\n",
       "    </tr>\n",
       "    <tr>\n",
       "      <th>4</th>\n",
       "      <td>2</td>\n",
       "      <td>-1.158233</td>\n",
       "      <td>0.877737</td>\n",
       "      <td>1.548718</td>\n",
       "      <td>0.403034</td>\n",
       "      <td>-0.407193</td>\n",
       "      <td>0.095921</td>\n",
       "      <td>0.592941</td>\n",
       "      <td>-0.270533</td>\n",
       "      <td>0.817739</td>\n",
       "      <td>...</td>\n",
       "      <td>-0.009431</td>\n",
       "      <td>0.798278</td>\n",
       "      <td>-0.137458</td>\n",
       "      <td>0.141267</td>\n",
       "      <td>-0.206010</td>\n",
       "      <td>0.502292</td>\n",
       "      <td>0.219422</td>\n",
       "      <td>0.215153</td>\n",
       "      <td>69.990000</td>\n",
       "      <td>0</td>\n",
       "    </tr>\n",
       "    <tr>\n",
       "      <th>...</th>\n",
       "      <td>...</td>\n",
       "      <td>...</td>\n",
       "      <td>...</td>\n",
       "      <td>...</td>\n",
       "      <td>...</td>\n",
       "      <td>...</td>\n",
       "      <td>...</td>\n",
       "      <td>...</td>\n",
       "      <td>...</td>\n",
       "      <td>...</td>\n",
       "      <td>...</td>\n",
       "      <td>...</td>\n",
       "      <td>...</td>\n",
       "      <td>...</td>\n",
       "      <td>...</td>\n",
       "      <td>...</td>\n",
       "      <td>...</td>\n",
       "      <td>...</td>\n",
       "      <td>...</td>\n",
       "      <td>...</td>\n",
       "      <td>...</td>\n",
       "    </tr>\n",
       "    <tr>\n",
       "      <th>1521</th>\n",
       "      <td>424</td>\n",
       "      <td>-1.372101</td>\n",
       "      <td>-1.951824</td>\n",
       "      <td>2.014235</td>\n",
       "      <td>1.003845</td>\n",
       "      <td>1.989149</td>\n",
       "      <td>0.461061</td>\n",
       "      <td>-1.710281</td>\n",
       "      <td>0.649905</td>\n",
       "      <td>0.719773</td>\n",
       "      <td>...</td>\n",
       "      <td>0.294841</td>\n",
       "      <td>0.834336</td>\n",
       "      <td>0.259144</td>\n",
       "      <td>-0.755276</td>\n",
       "      <td>-0.143236</td>\n",
       "      <td>0.716301</td>\n",
       "      <td>-0.101857</td>\n",
       "      <td>-0.134486</td>\n",
       "      <td>1.734266</td>\n",
       "      <td>1</td>\n",
       "    </tr>\n",
       "    <tr>\n",
       "      <th>1522</th>\n",
       "      <td>525</td>\n",
       "      <td>-1.794740</td>\n",
       "      <td>0.238670</td>\n",
       "      <td>0.913249</td>\n",
       "      <td>-0.200987</td>\n",
       "      <td>0.779377</td>\n",
       "      <td>-0.402877</td>\n",
       "      <td>-0.005661</td>\n",
       "      <td>0.263103</td>\n",
       "      <td>-0.250016</td>\n",
       "      <td>...</td>\n",
       "      <td>-0.111333</td>\n",
       "      <td>-0.176667</td>\n",
       "      <td>-0.281785</td>\n",
       "      <td>-0.182882</td>\n",
       "      <td>-0.297883</td>\n",
       "      <td>0.234206</td>\n",
       "      <td>-0.285777</td>\n",
       "      <td>-0.360040</td>\n",
       "      <td>0.902103</td>\n",
       "      <td>1</td>\n",
       "    </tr>\n",
       "    <tr>\n",
       "      <th>1523</th>\n",
       "      <td>279</td>\n",
       "      <td>-1.222801</td>\n",
       "      <td>1.427861</td>\n",
       "      <td>-1.057587</td>\n",
       "      <td>2.894282</td>\n",
       "      <td>-0.341179</td>\n",
       "      <td>-1.008636</td>\n",
       "      <td>-1.773009</td>\n",
       "      <td>0.985447</td>\n",
       "      <td>-1.988276</td>\n",
       "      <td>...</td>\n",
       "      <td>0.286230</td>\n",
       "      <td>-0.222717</td>\n",
       "      <td>-0.289086</td>\n",
       "      <td>0.114989</td>\n",
       "      <td>0.082652</td>\n",
       "      <td>0.161690</td>\n",
       "      <td>0.177162</td>\n",
       "      <td>-0.094153</td>\n",
       "      <td>0.836325</td>\n",
       "      <td>1</td>\n",
       "    </tr>\n",
       "    <tr>\n",
       "      <th>1524</th>\n",
       "      <td>313</td>\n",
       "      <td>-1.405067</td>\n",
       "      <td>1.419284</td>\n",
       "      <td>-0.825884</td>\n",
       "      <td>2.521437</td>\n",
       "      <td>-0.010707</td>\n",
       "      <td>-0.788485</td>\n",
       "      <td>-1.459885</td>\n",
       "      <td>0.915530</td>\n",
       "      <td>-1.763566</td>\n",
       "      <td>...</td>\n",
       "      <td>0.271598</td>\n",
       "      <td>-0.166950</td>\n",
       "      <td>-0.230896</td>\n",
       "      <td>-0.320197</td>\n",
       "      <td>-0.500599</td>\n",
       "      <td>0.138892</td>\n",
       "      <td>0.249968</td>\n",
       "      <td>-0.001275</td>\n",
       "      <td>0.376443</td>\n",
       "      <td>1</td>\n",
       "    </tr>\n",
       "    <tr>\n",
       "      <th>1525</th>\n",
       "      <td>473</td>\n",
       "      <td>-3.010928</td>\n",
       "      <td>-3.136613</td>\n",
       "      <td>1.131572</td>\n",
       "      <td>2.252729</td>\n",
       "      <td>1.394270</td>\n",
       "      <td>-1.012945</td>\n",
       "      <td>0.249411</td>\n",
       "      <td>-0.041023</td>\n",
       "      <td>-0.232500</td>\n",
       "      <td>...</td>\n",
       "      <td>0.654215</td>\n",
       "      <td>0.459239</td>\n",
       "      <td>1.342254</td>\n",
       "      <td>-0.311417</td>\n",
       "      <td>0.264191</td>\n",
       "      <td>-0.113894</td>\n",
       "      <td>-0.248766</td>\n",
       "      <td>0.029297</td>\n",
       "      <td>512.505775</td>\n",
       "      <td>1</td>\n",
       "    </tr>\n",
       "  </tbody>\n",
       "</table>\n",
       "<p>1526 rows × 31 columns</p>\n",
       "</div>"
      ],
      "text/plain": [
       "      Time        V1        V2        V3        V4        V5        V6  \\\n",
       "0        0 -1.359807 -0.072781  2.536347  1.378155 -0.338321  0.462388   \n",
       "1        0  1.191857  0.266151  0.166480  0.448154  0.060018 -0.082361   \n",
       "2        1 -1.358354 -1.340163  1.773209  0.379780 -0.503198  1.800499   \n",
       "3        1 -0.966272 -0.185226  1.792993 -0.863291 -0.010309  1.247203   \n",
       "4        2 -1.158233  0.877737  1.548718  0.403034 -0.407193  0.095921   \n",
       "...    ...       ...       ...       ...       ...       ...       ...   \n",
       "1521   424 -1.372101 -1.951824  2.014235  1.003845  1.989149  0.461061   \n",
       "1522   525 -1.794740  0.238670  0.913249 -0.200987  0.779377 -0.402877   \n",
       "1523   279 -1.222801  1.427861 -1.057587  2.894282 -0.341179 -1.008636   \n",
       "1524   313 -1.405067  1.419284 -0.825884  2.521437 -0.010707 -0.788485   \n",
       "1525   473 -3.010928 -3.136613  1.131572  2.252729  1.394270 -1.012945   \n",
       "\n",
       "            V7        V8        V9  ...       V21       V22       V23  \\\n",
       "0     0.239599  0.098698  0.363787  ... -0.018307  0.277838 -0.110474   \n",
       "1    -0.078803  0.085102 -0.255425  ... -0.225775 -0.638672  0.101288   \n",
       "2     0.791461  0.247676 -1.514654  ...  0.247998  0.771679  0.909412   \n",
       "3     0.237609  0.377436 -1.387024  ... -0.108300  0.005274 -0.190321   \n",
       "4     0.592941 -0.270533  0.817739  ... -0.009431  0.798278 -0.137458   \n",
       "...        ...       ...       ...  ...       ...       ...       ...   \n",
       "1521 -1.710281  0.649905  0.719773  ...  0.294841  0.834336  0.259144   \n",
       "1522 -0.005661  0.263103 -0.250016  ... -0.111333 -0.176667 -0.281785   \n",
       "1523 -1.773009  0.985447 -1.988276  ...  0.286230 -0.222717 -0.289086   \n",
       "1524 -1.459885  0.915530 -1.763566  ...  0.271598 -0.166950 -0.230896   \n",
       "1525  0.249411 -0.041023 -0.232500  ...  0.654215  0.459239  1.342254   \n",
       "\n",
       "           V24       V25       V26       V27       V28      Amount  Class  \n",
       "0     0.066928  0.128539 -0.189115  0.133558 -0.021053  149.620000      0  \n",
       "1    -0.339846  0.167170  0.125895 -0.008983  0.014724    2.690000      1  \n",
       "2    -0.689281 -0.327642 -0.139097 -0.055353 -0.059752  378.660000      0  \n",
       "3    -1.175575  0.647376 -0.221929  0.062723  0.061458  123.500000      0  \n",
       "4     0.141267 -0.206010  0.502292  0.219422  0.215153   69.990000      0  \n",
       "...        ...       ...       ...       ...       ...         ...    ...  \n",
       "1521 -0.755276 -0.143236  0.716301 -0.101857 -0.134486    1.734266      1  \n",
       "1522 -0.182882 -0.297883  0.234206 -0.285777 -0.360040    0.902103      1  \n",
       "1523  0.114989  0.082652  0.161690  0.177162 -0.094153    0.836325      1  \n",
       "1524 -0.320197 -0.500599  0.138892  0.249968 -0.001275    0.376443      1  \n",
       "1525 -0.311417  0.264191 -0.113894 -0.248766  0.029297  512.505775      1  \n",
       "\n",
       "[1526 rows x 31 columns]"
      ]
     },
     "execution_count": 10,
     "metadata": {},
     "output_type": "execute_result"
    }
   ],
   "source": [
    "data_new"
   ]
  },
  {
   "cell_type": "code",
   "execution_count": 11,
   "metadata": {
    "colab": {
     "base_uri": "https://localhost:8080/"
    },
    "id": "frA1P8o5o55E",
    "outputId": "0b06c234-a18b-49bc-e303-57fd64777d47"
   },
   "outputs": [
    {
     "data": {
      "text/plain": [
       "Class\n",
       "0    763\n",
       "1    763\n",
       "Name: count, dtype: int64"
      ]
     },
     "execution_count": 11,
     "metadata": {},
     "output_type": "execute_result"
    }
   ],
   "source": [
    "data_new['Class'].value_counts()"
   ]
  },
  {
   "cell_type": "code",
   "execution_count": 12,
   "metadata": {
    "colab": {
     "base_uri": "https://localhost:8080/",
     "height": 447
    },
    "id": "fEzGn_ViRmXM",
    "outputId": "59490771-3624-4f0d-a6a2-dca43feb8c29"
   },
   "outputs": [
    {
     "data": {
      "image/png": "[encoded data removed]",
      "text/plain": [
       "<Figure size 640x480 with 1 Axes>"
      ]
     },
     "metadata": {},
     "output_type": "display_data"
    }
   ],
   "source": [
    "data_new['Class'].value_counts().plot(kind='bar',color='green',title='After using oversampling technique')\n",
    "plt.show()"
   ]
  },
  {
   "cell_type": "markdown",
   "metadata": {
    "id": "wQ7kbG91q1sv"
   },
   "source": [
    "**SAMPLE** **SIZE**"
   ]
  },
  {
   "cell_type": "code",
   "execution_count": 13,
   "metadata": {
    "colab": {
     "base_uri": "https://localhost:8080/"
    },
    "id": "D3aIvLS6q1J4",
    "outputId": "d6847c13-cbd3-4131-fbf9-5680760251e2"
   },
   "outputs": [
    {
     "data": {
      "text/plain": [
       "384.1599999999999"
      ]
     },
     "execution_count": 13,
     "metadata": {},
     "output_type": "execute_result"
    }
   ],
   "source": [
    "import math\n",
    "population_size = X_newsample.shape[0]\n",
    "n = 1.96**2*0.5*0.5/0.05**2\n",
    "n"
   ]
  },
  {
   "cell_type": "markdown",
   "metadata": {
    "id": "ijFaOcoZp8oq"
   },
   "source": [
    "**CREATING SAMPLES**"
   ]
  },
  {
   "cell_type": "markdown",
   "metadata": {
    "id": "dRn4N8PTrmkW"
   },
   "source": [
    "1.  SIMPLE RANDOM SAMPLING\n",
    "\n",
    "\n"
   ]
  },
  {
   "cell_type": "code",
   "execution_count": 14,
   "metadata": {
    "colab": {
     "base_uri": "https://localhost:8080/",
     "height": 255
    },
    "id": "fkbxXxB5rlIA",
    "outputId": "6ebe379d-cfa5-4cee-f7c2-200251a488c0"
   },
   "outputs": [
    {
     "data": {
      "text/html": [
       "<div>\n",
       "<style scoped>\n",
       "    .dataframe tbody tr th:only-of-type {\n",
       "        vertical-align: middle;\n",
       "    }\n",
       "\n",
       "    .dataframe tbody tr th {\n",
       "        vertical-align: top;\n",
       "    }\n",
       "\n",
       "    .dataframe thead th {\n",
       "        text-align: right;\n",
       "    }\n",
       "</style>\n",
       "<table border=\"1\" class=\"dataframe\">\n",
       "  <thead>\n",
       "    <tr style=\"text-align: right;\">\n",
       "      <th></th>\n",
       "      <th>Time</th>\n",
       "      <th>V1</th>\n",
       "      <th>V2</th>\n",
       "      <th>V3</th>\n",
       "      <th>V4</th>\n",
       "      <th>V5</th>\n",
       "      <th>V6</th>\n",
       "      <th>V7</th>\n",
       "      <th>V8</th>\n",
       "      <th>V9</th>\n",
       "      <th>...</th>\n",
       "      <th>V21</th>\n",
       "      <th>V22</th>\n",
       "      <th>V23</th>\n",
       "      <th>V24</th>\n",
       "      <th>V25</th>\n",
       "      <th>V26</th>\n",
       "      <th>V27</th>\n",
       "      <th>V28</th>\n",
       "      <th>Amount</th>\n",
       "      <th>Class</th>\n",
       "    </tr>\n",
       "  </thead>\n",
       "  <tbody>\n",
       "    <tr>\n",
       "      <th>1439</th>\n",
       "      <td>515</td>\n",
       "      <td>-2.241104</td>\n",
       "      <td>-2.648118</td>\n",
       "      <td>2.149188</td>\n",
       "      <td>1.404948</td>\n",
       "      <td>2.207813</td>\n",
       "      <td>0.211634</td>\n",
       "      <td>-1.548434</td>\n",
       "      <td>0.590899</td>\n",
       "      <td>0.675194</td>\n",
       "      <td>...</td>\n",
       "      <td>0.477628</td>\n",
       "      <td>1.020137</td>\n",
       "      <td>0.546481</td>\n",
       "      <td>-0.727193</td>\n",
       "      <td>-0.104212</td>\n",
       "      <td>0.628921</td>\n",
       "      <td>-0.154177</td>\n",
       "      <td>-0.123361</td>\n",
       "      <td>123.155214</td>\n",
       "      <td>1</td>\n",
       "    </tr>\n",
       "    <tr>\n",
       "      <th>76</th>\n",
       "      <td>49</td>\n",
       "      <td>-0.549626</td>\n",
       "      <td>0.418949</td>\n",
       "      <td>1.729833</td>\n",
       "      <td>0.203065</td>\n",
       "      <td>-0.187012</td>\n",
       "      <td>0.253878</td>\n",
       "      <td>0.500894</td>\n",
       "      <td>0.251256</td>\n",
       "      <td>-0.227985</td>\n",
       "      <td>...</td>\n",
       "      <td>0.115062</td>\n",
       "      <td>0.418529</td>\n",
       "      <td>-0.065133</td>\n",
       "      <td>0.264981</td>\n",
       "      <td>0.003958</td>\n",
       "      <td>0.395969</td>\n",
       "      <td>0.027182</td>\n",
       "      <td>0.043506</td>\n",
       "      <td>59.990000</td>\n",
       "      <td>0</td>\n",
       "    </tr>\n",
       "    <tr>\n",
       "      <th>1010</th>\n",
       "      <td>483</td>\n",
       "      <td>-0.925036</td>\n",
       "      <td>0.398004</td>\n",
       "      <td>1.738864</td>\n",
       "      <td>0.183055</td>\n",
       "      <td>0.965082</td>\n",
       "      <td>-0.899825</td>\n",
       "      <td>0.877637</td>\n",
       "      <td>-0.156242</td>\n",
       "      <td>-0.142281</td>\n",
       "      <td>...</td>\n",
       "      <td>0.065933</td>\n",
       "      <td>0.280053</td>\n",
       "      <td>-0.257449</td>\n",
       "      <td>0.384340</td>\n",
       "      <td>0.390795</td>\n",
       "      <td>-0.453019</td>\n",
       "      <td>-0.104311</td>\n",
       "      <td>-0.125563</td>\n",
       "      <td>1.002433</td>\n",
       "      <td>1</td>\n",
       "    </tr>\n",
       "    <tr>\n",
       "      <th>660</th>\n",
       "      <td>499</td>\n",
       "      <td>1.255439</td>\n",
       "      <td>0.307729</td>\n",
       "      <td>0.292700</td>\n",
       "      <td>0.699873</td>\n",
       "      <td>-0.428876</td>\n",
       "      <td>-1.088456</td>\n",
       "      <td>0.043840</td>\n",
       "      <td>-0.167739</td>\n",
       "      <td>0.128854</td>\n",
       "      <td>...</td>\n",
       "      <td>-0.294795</td>\n",
       "      <td>-0.882126</td>\n",
       "      <td>0.136846</td>\n",
       "      <td>0.327949</td>\n",
       "      <td>0.194459</td>\n",
       "      <td>0.096516</td>\n",
       "      <td>-0.027271</td>\n",
       "      <td>0.029491</td>\n",
       "      <td>1.980000</td>\n",
       "      <td>0</td>\n",
       "    </tr>\n",
       "    <tr>\n",
       "      <th>1132</th>\n",
       "      <td>117</td>\n",
       "      <td>0.387204</td>\n",
       "      <td>0.471122</td>\n",
       "      <td>0.371831</td>\n",
       "      <td>0.208426</td>\n",
       "      <td>0.608940</td>\n",
       "      <td>0.157836</td>\n",
       "      <td>0.191094</td>\n",
       "      <td>0.124239</td>\n",
       "      <td>-0.160182</td>\n",
       "      <td>...</td>\n",
       "      <td>-0.155972</td>\n",
       "      <td>-0.453950</td>\n",
       "      <td>0.137064</td>\n",
       "      <td>-1.076694</td>\n",
       "      <td>-0.952541</td>\n",
       "      <td>0.089573</td>\n",
       "      <td>0.164222</td>\n",
       "      <td>0.169737</td>\n",
       "      <td>1.466862</td>\n",
       "      <td>1</td>\n",
       "    </tr>\n",
       "  </tbody>\n",
       "</table>\n",
       "<p>5 rows × 31 columns</p>\n",
       "</div>"
      ],
      "text/plain": [
       "      Time        V1        V2        V3        V4        V5        V6  \\\n",
       "1439   515 -2.241104 -2.648118  2.149188  1.404948  2.207813  0.211634   \n",
       "76      49 -0.549626  0.418949  1.729833  0.203065 -0.187012  0.253878   \n",
       "1010   483 -0.925036  0.398004  1.738864  0.183055  0.965082 -0.899825   \n",
       "660    499  1.255439  0.307729  0.292700  0.699873 -0.428876 -1.088456   \n",
       "1132   117  0.387204  0.471122  0.371831  0.208426  0.608940  0.157836   \n",
       "\n",
       "            V7        V8        V9  ...       V21       V22       V23  \\\n",
       "1439 -1.548434  0.590899  0.675194  ...  0.477628  1.020137  0.546481   \n",
       "76    0.500894  0.251256 -0.227985  ...  0.115062  0.418529 -0.065133   \n",
       "1010  0.877637 -0.156242 -0.142281  ...  0.065933  0.280053 -0.257449   \n",
       "660   0.043840 -0.167739  0.128854  ... -0.294795 -0.882126  0.136846   \n",
       "1132  0.191094  0.124239 -0.160182  ... -0.155972 -0.453950  0.137064   \n",
       "\n",
       "           V24       V25       V26       V27       V28      Amount  Class  \n",
       "1439 -0.727193 -0.104212  0.628921 -0.154177 -0.123361  123.155214      1  \n",
       "76    0.264981  0.003958  0.395969  0.027182  0.043506   59.990000      0  \n",
       "1010  0.384340  0.390795 -0.453019 -0.104311 -0.125563    1.002433      1  \n",
       "660   0.327949  0.194459  0.096516 -0.027271  0.029491    1.980000      0  \n",
       "1132 -1.076694 -0.952541  0.089573  0.164222  0.169737    1.466862      1  \n",
       "\n",
       "[5 rows x 31 columns]"
      ]
     },
     "execution_count": 14,
     "metadata": {},
     "output_type": "execute_result"
    }
   ],
   "source": [
    "data_random_sample = data_new.sample(n=math.ceil(n), random_state=42 , replace=False)\n",
    "data_random_sample.head()"
   ]
  },
  {
   "cell_type": "markdown",
   "metadata": {
    "id": "x3mrJ5LKs9ni"
   },
   "source": [
    "2. SYSTEMATIC RANDOM SAMPLING\n",
    "\n"
   ]
  },
  {
   "cell_type": "code",
   "execution_count": 15,
   "metadata": {
    "colab": {
     "base_uri": "https://localhost:8080/",
     "height": 255
    },
    "id": "KyGJLeqItDBS",
    "outputId": "731cbcaa-79f2-4604-fd03-d6c9ab318951"
   },
   "outputs": [
    {
     "data": {
      "text/html": [
       "<div>\n",
       "<style scoped>\n",
       "    .dataframe tbody tr th:only-of-type {\n",
       "        vertical-align: middle;\n",
       "    }\n",
       "\n",
       "    .dataframe tbody tr th {\n",
       "        vertical-align: top;\n",
       "    }\n",
       "\n",
       "    .dataframe thead th {\n",
       "        text-align: right;\n",
       "    }\n",
       "</style>\n",
       "<table border=\"1\" class=\"dataframe\">\n",
       "  <thead>\n",
       "    <tr style=\"text-align: right;\">\n",
       "      <th></th>\n",
       "      <th>Time</th>\n",
       "      <th>V1</th>\n",
       "      <th>V2</th>\n",
       "      <th>V3</th>\n",
       "      <th>V4</th>\n",
       "      <th>V5</th>\n",
       "      <th>V6</th>\n",
       "      <th>V7</th>\n",
       "      <th>V8</th>\n",
       "      <th>V9</th>\n",
       "      <th>...</th>\n",
       "      <th>V21</th>\n",
       "      <th>V22</th>\n",
       "      <th>V23</th>\n",
       "      <th>V24</th>\n",
       "      <th>V25</th>\n",
       "      <th>V26</th>\n",
       "      <th>V27</th>\n",
       "      <th>V28</th>\n",
       "      <th>Amount</th>\n",
       "      <th>Class</th>\n",
       "    </tr>\n",
       "  </thead>\n",
       "  <tbody>\n",
       "    <tr>\n",
       "      <th>0</th>\n",
       "      <td>0</td>\n",
       "      <td>-1.359807</td>\n",
       "      <td>-0.072781</td>\n",
       "      <td>2.536347</td>\n",
       "      <td>1.378155</td>\n",
       "      <td>-0.338321</td>\n",
       "      <td>0.462388</td>\n",
       "      <td>0.239599</td>\n",
       "      <td>0.098698</td>\n",
       "      <td>0.363787</td>\n",
       "      <td>...</td>\n",
       "      <td>-0.018307</td>\n",
       "      <td>0.277838</td>\n",
       "      <td>-0.110474</td>\n",
       "      <td>0.066928</td>\n",
       "      <td>0.128539</td>\n",
       "      <td>-0.189115</td>\n",
       "      <td>0.133558</td>\n",
       "      <td>-0.021053</td>\n",
       "      <td>149.62</td>\n",
       "      <td>0</td>\n",
       "    </tr>\n",
       "    <tr>\n",
       "      <th>3</th>\n",
       "      <td>1</td>\n",
       "      <td>-0.966272</td>\n",
       "      <td>-0.185226</td>\n",
       "      <td>1.792993</td>\n",
       "      <td>-0.863291</td>\n",
       "      <td>-0.010309</td>\n",
       "      <td>1.247203</td>\n",
       "      <td>0.237609</td>\n",
       "      <td>0.377436</td>\n",
       "      <td>-1.387024</td>\n",
       "      <td>...</td>\n",
       "      <td>-0.108300</td>\n",
       "      <td>0.005274</td>\n",
       "      <td>-0.190321</td>\n",
       "      <td>-1.175575</td>\n",
       "      <td>0.647376</td>\n",
       "      <td>-0.221929</td>\n",
       "      <td>0.062723</td>\n",
       "      <td>0.061458</td>\n",
       "      <td>123.50</td>\n",
       "      <td>0</td>\n",
       "    </tr>\n",
       "    <tr>\n",
       "      <th>6</th>\n",
       "      <td>4</td>\n",
       "      <td>1.229658</td>\n",
       "      <td>0.141004</td>\n",
       "      <td>0.045371</td>\n",
       "      <td>1.202613</td>\n",
       "      <td>0.191881</td>\n",
       "      <td>0.272708</td>\n",
       "      <td>-0.005159</td>\n",
       "      <td>0.081213</td>\n",
       "      <td>0.464960</td>\n",
       "      <td>...</td>\n",
       "      <td>-0.167716</td>\n",
       "      <td>-0.270710</td>\n",
       "      <td>-0.154104</td>\n",
       "      <td>-0.780055</td>\n",
       "      <td>0.750137</td>\n",
       "      <td>-0.257237</td>\n",
       "      <td>0.034507</td>\n",
       "      <td>0.005168</td>\n",
       "      <td>4.99</td>\n",
       "      <td>0</td>\n",
       "    </tr>\n",
       "    <tr>\n",
       "      <th>9</th>\n",
       "      <td>9</td>\n",
       "      <td>-0.338262</td>\n",
       "      <td>1.119593</td>\n",
       "      <td>1.044367</td>\n",
       "      <td>-0.222187</td>\n",
       "      <td>0.499361</td>\n",
       "      <td>-0.246761</td>\n",
       "      <td>0.651583</td>\n",
       "      <td>0.069539</td>\n",
       "      <td>-0.736727</td>\n",
       "      <td>...</td>\n",
       "      <td>-0.246914</td>\n",
       "      <td>-0.633753</td>\n",
       "      <td>-0.120794</td>\n",
       "      <td>-0.385050</td>\n",
       "      <td>-0.069733</td>\n",
       "      <td>0.094199</td>\n",
       "      <td>0.246219</td>\n",
       "      <td>0.083076</td>\n",
       "      <td>3.68</td>\n",
       "      <td>0</td>\n",
       "    </tr>\n",
       "    <tr>\n",
       "      <th>12</th>\n",
       "      <td>10</td>\n",
       "      <td>1.249999</td>\n",
       "      <td>-1.221637</td>\n",
       "      <td>0.383930</td>\n",
       "      <td>-1.234899</td>\n",
       "      <td>-1.485419</td>\n",
       "      <td>-0.753230</td>\n",
       "      <td>-0.689405</td>\n",
       "      <td>-0.227487</td>\n",
       "      <td>-2.094011</td>\n",
       "      <td>...</td>\n",
       "      <td>-0.231809</td>\n",
       "      <td>-0.483285</td>\n",
       "      <td>0.084668</td>\n",
       "      <td>0.392831</td>\n",
       "      <td>0.161135</td>\n",
       "      <td>-0.354990</td>\n",
       "      <td>0.026416</td>\n",
       "      <td>0.042422</td>\n",
       "      <td>121.50</td>\n",
       "      <td>0</td>\n",
       "    </tr>\n",
       "  </tbody>\n",
       "</table>\n",
       "<p>5 rows × 31 columns</p>\n",
       "</div>"
      ],
      "text/plain": [
       "    Time        V1        V2        V3        V4        V5        V6  \\\n",
       "0      0 -1.359807 -0.072781  2.536347  1.378155 -0.338321  0.462388   \n",
       "3      1 -0.966272 -0.185226  1.792993 -0.863291 -0.010309  1.247203   \n",
       "6      4  1.229658  0.141004  0.045371  1.202613  0.191881  0.272708   \n",
       "9      9 -0.338262  1.119593  1.044367 -0.222187  0.499361 -0.246761   \n",
       "12    10  1.249999 -1.221637  0.383930 -1.234899 -1.485419 -0.753230   \n",
       "\n",
       "          V7        V8        V9  ...       V21       V22       V23       V24  \\\n",
       "0   0.239599  0.098698  0.363787  ... -0.018307  0.277838 -0.110474  0.066928   \n",
       "3   0.237609  0.377436 -1.387024  ... -0.108300  0.005274 -0.190321 -1.175575   \n",
       "6  -0.005159  0.081213  0.464960  ... -0.167716 -0.270710 -0.154104 -0.780055   \n",
       "9   0.651583  0.069539 -0.736727  ... -0.246914 -0.633753 -0.120794 -0.385050   \n",
       "12 -0.689405 -0.227487 -2.094011  ... -0.231809 -0.483285  0.084668  0.392831   \n",
       "\n",
       "         V25       V26       V27       V28  Amount  Class  \n",
       "0   0.128539 -0.189115  0.133558 -0.021053  149.62      0  \n",
       "3   0.647376 -0.221929  0.062723  0.061458  123.50      0  \n",
       "6   0.750137 -0.257237  0.034507  0.005168    4.99      0  \n",
       "9  -0.069733  0.094199  0.246219  0.083076    3.68      0  \n",
       "12  0.161135 -0.354990  0.026416  0.042422  121.50      0  \n",
       "\n",
       "[5 rows x 31 columns]"
      ]
     },
     "execution_count": 15,
     "metadata": {},
     "output_type": "execute_result"
    }
   ],
   "source": [
    "k = int((population_size)/math.ceil(n))\n",
    "start = np.random.randint(0, k)\n",
    "systematic_sample = data_new.iloc[start::k]\n",
    "systematic_sample.head()"
   ]
  },
  {
   "cell_type": "markdown",
   "metadata": {
    "id": "0tOD_eDGugS0"
   },
   "source": [
    "3. CLUSTER SAMPLING"
   ]
  },
  {
   "cell_type": "code",
   "execution_count": 16,
   "metadata": {
    "colab": {
     "base_uri": "https://localhost:8080/",
     "height": 255
    },
    "id": "CTo01hnzukex",
    "outputId": "4f8de5fc-aed5-4764-861c-e73ff413a47a"
   },
   "outputs": [
    {
     "data": {
      "text/html": [
       "<div>\n",
       "<style scoped>\n",
       "    .dataframe tbody tr th:only-of-type {\n",
       "        vertical-align: middle;\n",
       "    }\n",
       "\n",
       "    .dataframe tbody tr th {\n",
       "        vertical-align: top;\n",
       "    }\n",
       "\n",
       "    .dataframe thead th {\n",
       "        text-align: right;\n",
       "    }\n",
       "</style>\n",
       "<table border=\"1\" class=\"dataframe\">\n",
       "  <thead>\n",
       "    <tr style=\"text-align: right;\">\n",
       "      <th></th>\n",
       "      <th>Time</th>\n",
       "      <th>V1</th>\n",
       "      <th>V2</th>\n",
       "      <th>V3</th>\n",
       "      <th>V4</th>\n",
       "      <th>V5</th>\n",
       "      <th>V6</th>\n",
       "      <th>V7</th>\n",
       "      <th>V8</th>\n",
       "      <th>V9</th>\n",
       "      <th>...</th>\n",
       "      <th>V22</th>\n",
       "      <th>V23</th>\n",
       "      <th>V24</th>\n",
       "      <th>V25</th>\n",
       "      <th>V26</th>\n",
       "      <th>V27</th>\n",
       "      <th>V28</th>\n",
       "      <th>Amount</th>\n",
       "      <th>Class</th>\n",
       "      <th>cluster</th>\n",
       "    </tr>\n",
       "  </thead>\n",
       "  <tbody>\n",
       "    <tr>\n",
       "      <th>1011</th>\n",
       "      <td>177</td>\n",
       "      <td>0.030819</td>\n",
       "      <td>0.544520</td>\n",
       "      <td>0.506825</td>\n",
       "      <td>0.117849</td>\n",
       "      <td>0.829059</td>\n",
       "      <td>0.202373</td>\n",
       "      <td>0.321147</td>\n",
       "      <td>0.126881</td>\n",
       "      <td>-0.123863</td>\n",
       "      <td>...</td>\n",
       "      <td>-0.353669</td>\n",
       "      <td>0.133585</td>\n",
       "      <td>-1.289427</td>\n",
       "      <td>-1.313225</td>\n",
       "      <td>0.052860</td>\n",
       "      <td>0.217424</td>\n",
       "      <td>0.215004</td>\n",
       "      <td>0.990426</td>\n",
       "      <td>1</td>\n",
       "      <td>1.0</td>\n",
       "    </tr>\n",
       "    <tr>\n",
       "      <th>1181</th>\n",
       "      <td>135</td>\n",
       "      <td>0.817303</td>\n",
       "      <td>0.424646</td>\n",
       "      <td>0.357828</td>\n",
       "      <td>0.478961</td>\n",
       "      <td>0.070956</td>\n",
       "      <td>-0.580669</td>\n",
       "      <td>0.164396</td>\n",
       "      <td>-0.076032</td>\n",
       "      <td>-0.023447</td>\n",
       "      <td>...</td>\n",
       "      <td>-0.665719</td>\n",
       "      <td>0.136576</td>\n",
       "      <td>-0.291530</td>\n",
       "      <td>-0.378576</td>\n",
       "      <td>0.087558</td>\n",
       "      <td>0.071139</td>\n",
       "      <td>0.104707</td>\n",
       "      <td>2.060300</td>\n",
       "      <td>1</td>\n",
       "      <td>1.0</td>\n",
       "    </tr>\n",
       "    <tr>\n",
       "      <th>584</th>\n",
       "      <td>438</td>\n",
       "      <td>1.491574</td>\n",
       "      <td>-1.088278</td>\n",
       "      <td>0.552852</td>\n",
       "      <td>-1.289876</td>\n",
       "      <td>-1.391175</td>\n",
       "      <td>-0.101768</td>\n",
       "      <td>-1.156643</td>\n",
       "      <td>-0.023064</td>\n",
       "      <td>-1.706012</td>\n",
       "      <td>...</td>\n",
       "      <td>0.008611</td>\n",
       "      <td>-0.090743</td>\n",
       "      <td>0.045121</td>\n",
       "      <td>0.593903</td>\n",
       "      <td>-0.100271</td>\n",
       "      <td>0.052103</td>\n",
       "      <td>0.004537</td>\n",
       "      <td>2.000000</td>\n",
       "      <td>0</td>\n",
       "      <td>1.0</td>\n",
       "    </tr>\n",
       "    <tr>\n",
       "      <th>531</th>\n",
       "      <td>394</td>\n",
       "      <td>-0.553092</td>\n",
       "      <td>1.667591</td>\n",
       "      <td>-0.047357</td>\n",
       "      <td>0.514249</td>\n",
       "      <td>0.589388</td>\n",
       "      <td>-0.635411</td>\n",
       "      <td>1.126611</td>\n",
       "      <td>-0.311882</td>\n",
       "      <td>0.035247</td>\n",
       "      <td>...</td>\n",
       "      <td>0.687658</td>\n",
       "      <td>-0.076693</td>\n",
       "      <td>0.014810</td>\n",
       "      <td>-0.590713</td>\n",
       "      <td>-0.482998</td>\n",
       "      <td>0.137717</td>\n",
       "      <td>-0.334915</td>\n",
       "      <td>1.550000</td>\n",
       "      <td>0</td>\n",
       "      <td>1.0</td>\n",
       "    </tr>\n",
       "    <tr>\n",
       "      <th>101</th>\n",
       "      <td>68</td>\n",
       "      <td>-0.770196</td>\n",
       "      <td>0.483572</td>\n",
       "      <td>1.901072</td>\n",
       "      <td>-0.001876</td>\n",
       "      <td>0.024245</td>\n",
       "      <td>-1.171903</td>\n",
       "      <td>0.666483</td>\n",
       "      <td>-0.094603</td>\n",
       "      <td>-0.136666</td>\n",
       "      <td>...</td>\n",
       "      <td>-0.155801</td>\n",
       "      <td>0.018108</td>\n",
       "      <td>0.941555</td>\n",
       "      <td>-0.168582</td>\n",
       "      <td>0.056171</td>\n",
       "      <td>0.058979</td>\n",
       "      <td>0.134188</td>\n",
       "      <td>22.360000</td>\n",
       "      <td>0</td>\n",
       "      <td>1.0</td>\n",
       "    </tr>\n",
       "  </tbody>\n",
       "</table>\n",
       "<p>5 rows × 32 columns</p>\n",
       "</div>"
      ],
      "text/plain": [
       "      Time        V1        V2        V3        V4        V5        V6  \\\n",
       "1011   177  0.030819  0.544520  0.506825  0.117849  0.829059  0.202373   \n",
       "1181   135  0.817303  0.424646  0.357828  0.478961  0.070956 -0.580669   \n",
       "584    438  1.491574 -1.088278  0.552852 -1.289876 -1.391175 -0.101768   \n",
       "531    394 -0.553092  1.667591 -0.047357  0.514249  0.589388 -0.635411   \n",
       "101     68 -0.770196  0.483572  1.901072 -0.001876  0.024245 -1.171903   \n",
       "\n",
       "            V7        V8        V9  ...       V22       V23       V24  \\\n",
       "1011  0.321147  0.126881 -0.123863  ... -0.353669  0.133585 -1.289427   \n",
       "1181  0.164396 -0.076032 -0.023447  ... -0.665719  0.136576 -0.291530   \n",
       "584  -1.156643 -0.023064 -1.706012  ...  0.008611 -0.090743  0.045121   \n",
       "531   1.126611 -0.311882  0.035247  ...  0.687658 -0.076693  0.014810   \n",
       "101   0.666483 -0.094603 -0.136666  ... -0.155801  0.018108  0.941555   \n",
       "\n",
       "           V25       V26       V27       V28     Amount  Class  cluster  \n",
       "1011 -1.313225  0.052860  0.217424  0.215004   0.990426      1      1.0  \n",
       "1181 -0.378576  0.087558  0.071139  0.104707   2.060300      1      1.0  \n",
       "584   0.593903 -0.100271  0.052103  0.004537   2.000000      0      1.0  \n",
       "531  -0.590713 -0.482998  0.137717 -0.334915   1.550000      0      1.0  \n",
       "101  -0.168582  0.056171  0.058979  0.134188  22.360000      0      1.0  \n",
       "\n",
       "[5 rows x 32 columns]"
      ]
     },
     "execution_count": 16,
     "metadata": {},
     "output_type": "execute_result"
    }
   ],
   "source": [
    "def get_clustered_Sample(data, n_per_cluster, num_select_clusters):\n",
    "    N = len(data)\n",
    "    K = int(N/n_per_cluster)\n",
    "    df = None\n",
    "    for k in range(K):\n",
    "        sample_k = data.sample(n_per_cluster)\n",
    "        sample_k[\"cluster\"] = np.repeat(k,len(sample_k))\n",
    "        data = data.drop(index = sample_k.index)\n",
    "        data = pd.concat([data,sample_k],axis = 0)\n",
    "\n",
    "    random_chosen_clusters = np.random.randint(0,K,size = num_select_clusters)\n",
    "    samples = data[data.cluster.isin(random_chosen_clusters)]\n",
    "    return(samples)\n",
    "\n",
    "data_cluster_sample = get_clustered_Sample(data = data_new, n_per_cluster = int(n), num_select_clusters = 1)\n",
    "data_cluster_sample.head()"
   ]
  },
  {
   "cell_type": "markdown",
   "metadata": {
    "id": "zFOSa_hMw989"
   },
   "source": [
    "4. BOOTSTRAP SAMPLING"
   ]
  },
  {
   "cell_type": "code",
   "execution_count": 17,
   "metadata": {
    "colab": {
     "base_uri": "https://localhost:8080/",
     "height": 255
    },
    "id": "SocLPoX7wedl",
    "outputId": "38415f8d-4c77-4e43-e5fb-84d1817e8b65"
   },
   "outputs": [
    {
     "data": {
      "text/html": [
       "<div>\n",
       "<style scoped>\n",
       "    .dataframe tbody tr th:only-of-type {\n",
       "        vertical-align: middle;\n",
       "    }\n",
       "\n",
       "    .dataframe tbody tr th {\n",
       "        vertical-align: top;\n",
       "    }\n",
       "\n",
       "    .dataframe thead th {\n",
       "        text-align: right;\n",
       "    }\n",
       "</style>\n",
       "<table border=\"1\" class=\"dataframe\">\n",
       "  <thead>\n",
       "    <tr style=\"text-align: right;\">\n",
       "      <th></th>\n",
       "      <th>Time</th>\n",
       "      <th>V1</th>\n",
       "      <th>V2</th>\n",
       "      <th>V3</th>\n",
       "      <th>V4</th>\n",
       "      <th>V5</th>\n",
       "      <th>V6</th>\n",
       "      <th>V7</th>\n",
       "      <th>V8</th>\n",
       "      <th>V9</th>\n",
       "      <th>...</th>\n",
       "      <th>V21</th>\n",
       "      <th>V22</th>\n",
       "      <th>V23</th>\n",
       "      <th>V24</th>\n",
       "      <th>V25</th>\n",
       "      <th>V26</th>\n",
       "      <th>V27</th>\n",
       "      <th>V28</th>\n",
       "      <th>Amount</th>\n",
       "      <th>Class</th>\n",
       "    </tr>\n",
       "  </thead>\n",
       "  <tbody>\n",
       "    <tr>\n",
       "      <th>1126</th>\n",
       "      <td>145</td>\n",
       "      <td>1.035928</td>\n",
       "      <td>0.158862</td>\n",
       "      <td>0.448097</td>\n",
       "      <td>0.723179</td>\n",
       "      <td>-0.180871</td>\n",
       "      <td>-0.958289</td>\n",
       "      <td>-0.061001</td>\n",
       "      <td>-0.136162</td>\n",
       "      <td>0.097285</td>\n",
       "      <td>...</td>\n",
       "      <td>-0.239830</td>\n",
       "      <td>-0.696260</td>\n",
       "      <td>0.139502</td>\n",
       "      <td>0.258940</td>\n",
       "      <td>0.186665</td>\n",
       "      <td>0.146251</td>\n",
       "      <td>-0.030166</td>\n",
       "      <td>0.017307</td>\n",
       "      <td>2.609953</td>\n",
       "      <td>1</td>\n",
       "    </tr>\n",
       "    <tr>\n",
       "      <th>1459</th>\n",
       "      <td>410</td>\n",
       "      <td>-2.291100</td>\n",
       "      <td>1.882045</td>\n",
       "      <td>-1.506844</td>\n",
       "      <td>3.826484</td>\n",
       "      <td>-0.469051</td>\n",
       "      <td>-1.384754</td>\n",
       "      <td>-2.434029</td>\n",
       "      <td>1.345584</td>\n",
       "      <td>-2.667206</td>\n",
       "      <td>...</td>\n",
       "      <td>0.491571</td>\n",
       "      <td>-0.040831</td>\n",
       "      <td>-0.457723</td>\n",
       "      <td>0.299660</td>\n",
       "      <td>0.030540</td>\n",
       "      <td>0.180141</td>\n",
       "      <td>0.238817</td>\n",
       "      <td>-0.152125</td>\n",
       "      <td>0.036829</td>\n",
       "      <td>1</td>\n",
       "    </tr>\n",
       "    <tr>\n",
       "      <th>860</th>\n",
       "      <td>548</td>\n",
       "      <td>-0.891615</td>\n",
       "      <td>0.140933</td>\n",
       "      <td>0.938268</td>\n",
       "      <td>-0.275812</td>\n",
       "      <td>0.559252</td>\n",
       "      <td>-0.511054</td>\n",
       "      <td>0.219669</td>\n",
       "      <td>0.041433</td>\n",
       "      <td>0.020917</td>\n",
       "      <td>...</td>\n",
       "      <td>-0.209879</td>\n",
       "      <td>-0.369729</td>\n",
       "      <td>-0.151767</td>\n",
       "      <td>-0.073357</td>\n",
       "      <td>-0.177830</td>\n",
       "      <td>0.199072</td>\n",
       "      <td>-0.253843</td>\n",
       "      <td>-0.266394</td>\n",
       "      <td>1.081975</td>\n",
       "      <td>1</td>\n",
       "    </tr>\n",
       "    <tr>\n",
       "      <th>1294</th>\n",
       "      <td>288</td>\n",
       "      <td>-0.529707</td>\n",
       "      <td>0.385161</td>\n",
       "      <td>0.696612</td>\n",
       "      <td>-0.141891</td>\n",
       "      <td>0.855461</td>\n",
       "      <td>0.070638</td>\n",
       "      <td>0.287252</td>\n",
       "      <td>0.139875</td>\n",
       "      <td>-0.074279</td>\n",
       "      <td>...</td>\n",
       "      <td>-0.145664</td>\n",
       "      <td>-0.318720</td>\n",
       "      <td>0.013569</td>\n",
       "      <td>-0.988982</td>\n",
       "      <td>-1.038211</td>\n",
       "      <td>0.130307</td>\n",
       "      <td>0.039719</td>\n",
       "      <td>0.025872</td>\n",
       "      <td>0.993329</td>\n",
       "      <td>1</td>\n",
       "    </tr>\n",
       "    <tr>\n",
       "      <th>1130</th>\n",
       "      <td>88</td>\n",
       "      <td>0.588991</td>\n",
       "      <td>0.419720</td>\n",
       "      <td>0.320334</td>\n",
       "      <td>0.268544</td>\n",
       "      <td>0.471284</td>\n",
       "      <td>0.097600</td>\n",
       "      <td>0.123411</td>\n",
       "      <td>0.114424</td>\n",
       "      <td>-0.184067</td>\n",
       "      <td>...</td>\n",
       "      <td>-0.173477</td>\n",
       "      <td>-0.500273</td>\n",
       "      <td>0.128092</td>\n",
       "      <td>-0.891912</td>\n",
       "      <td>-0.671745</td>\n",
       "      <td>0.098681</td>\n",
       "      <td>0.120787</td>\n",
       "      <td>0.130863</td>\n",
       "      <td>1.773594</td>\n",
       "      <td>1</td>\n",
       "    </tr>\n",
       "  </tbody>\n",
       "</table>\n",
       "<p>5 rows × 31 columns</p>\n",
       "</div>"
      ],
      "text/plain": [
       "      Time        V1        V2        V3        V4        V5        V6  \\\n",
       "1126   145  1.035928  0.158862  0.448097  0.723179 -0.180871 -0.958289   \n",
       "1459   410 -2.291100  1.882045 -1.506844  3.826484 -0.469051 -1.384754   \n",
       "860    548 -0.891615  0.140933  0.938268 -0.275812  0.559252 -0.511054   \n",
       "1294   288 -0.529707  0.385161  0.696612 -0.141891  0.855461  0.070638   \n",
       "1130    88  0.588991  0.419720  0.320334  0.268544  0.471284  0.097600   \n",
       "\n",
       "            V7        V8        V9  ...       V21       V22       V23  \\\n",
       "1126 -0.061001 -0.136162  0.097285  ... -0.239830 -0.696260  0.139502   \n",
       "1459 -2.434029  1.345584 -2.667206  ...  0.491571 -0.040831 -0.457723   \n",
       "860   0.219669  0.041433  0.020917  ... -0.209879 -0.369729 -0.151767   \n",
       "1294  0.287252  0.139875 -0.074279  ... -0.145664 -0.318720  0.013569   \n",
       "1130  0.123411  0.114424 -0.184067  ... -0.173477 -0.500273  0.128092   \n",
       "\n",
       "           V24       V25       V26       V27       V28    Amount  Class  \n",
       "1126  0.258940  0.186665  0.146251 -0.030166  0.017307  2.609953      1  \n",
       "1459  0.299660  0.030540  0.180141  0.238817 -0.152125  0.036829      1  \n",
       "860  -0.073357 -0.177830  0.199072 -0.253843 -0.266394  1.081975      1  \n",
       "1294 -0.988982 -1.038211  0.130307  0.039719  0.025872  0.993329      1  \n",
       "1130 -0.891912 -0.671745  0.098681  0.120787  0.130863  1.773594      1  \n",
       "\n",
       "[5 rows x 31 columns]"
      ]
     },
     "execution_count": 17,
     "metadata": {},
     "output_type": "execute_result"
    }
   ],
   "source": [
    "data_bootstrap_sample = data_new.sample(n = math.ceil(n), replace = True, random_state = 42)\n",
    "data_bootstrap_sample.head()"
   ]
  },
  {
   "cell_type": "markdown",
   "metadata": {
    "id": "opTCSl6RyWLB"
   },
   "source": [
    "**MODEL EVALUATION**"
   ]
  },
  {
   "cell_type": "markdown",
   "metadata": {
    "id": "V3kyvN1fybq2"
   },
   "source": [
    "**1. LOGISTIC REGRESSION**"
   ]
  },
  {
   "cell_type": "markdown",
   "metadata": {
    "id": "I9rNQQz0ymd_"
   },
   "source": [
    "1. Simple Random Sampling"
   ]
  },
  {
   "cell_type": "code",
   "execution_count": 18,
   "metadata": {
    "colab": {
     "base_uri": "https://localhost:8080/"
    },
    "id": "gjHmydZkygSh",
    "outputId": "60902dc6-5536-4a63-ab1d-f8a65feb0e00"
   },
   "outputs": [
    {
     "name": "stdout",
     "output_type": "stream",
     "text": [
      "Accuracy for simple random sampling using LR: 0.8706896551724138\n"
     ]
    }
   ],
   "source": [
    "from sklearn.preprocessing import StandardScaler\n",
    "from sklearn.model_selection import train_test_split\n",
    "from sklearn.metrics import accuracy_score, classification_report\n",
    "scaler=StandardScaler()\n",
    "X_random_sample = data_random_sample.drop('Class', axis = 1)\n",
    "y_random_sample = data_random_sample['Class']\n",
    "X_random_scaled = scaler.fit_transform(X_random_sample)\n",
    "X_train_random, X_test_random, y_train_random, y_test_random = train_test_split(X_random_scaled, y_random_sample, test_size=0.3, random_state=42)\n",
    "from sklearn.linear_model import LogisticRegression\n",
    "model = LogisticRegression()\n",
    "model.fit(X_train_random, y_train_random)\n",
    "y_pred = model.predict(X_test_random)\n",
    "accuracy = accuracy_score(y_test_random, y_pred)\n",
    "print(\"Accuracy for simple random sampling using LR:\", accuracy)"
   ]
  },
  {
   "cell_type": "markdown",
   "metadata": {
    "id": "J1Ihty4W0BRZ"
   },
   "source": [
    "2. Systematic Random Sampling"
   ]
  },
  {
   "cell_type": "code",
   "execution_count": 19,
   "metadata": {
    "colab": {
     "base_uri": "https://localhost:8080/"
    },
    "id": "W3hHgE0A0T86",
    "outputId": "4212d58b-8900-42f2-a1a6-dc560fdf7eb2"
   },
   "outputs": [
    {
     "name": "stdout",
     "output_type": "stream",
     "text": [
      "Accuracy for simplifed random sampling using LR: 0.9281045751633987\n"
     ]
    }
   ],
   "source": [
    "X_systematic_sample = systematic_sample.drop('Class', axis = 1)\n",
    "y_systematic_sample = systematic_sample['Class']\n",
    "X_systematic_scaled = scaler.fit_transform(X_systematic_sample)\n",
    "X_train_systematic, X_test_systematic, y_train_systematic, y_test_systematic = train_test_split(X_systematic_scaled, y_systematic_sample, test_size=0.3, random_state=42)\n",
    "\n",
    "model.fit(X_train_systematic, y_train_systematic)\n",
    "y_pred = model.predict(X_test_systematic)\n",
    "accuracy = accuracy_score(y_test_systematic, y_pred)\n",
    "print(\"Accuracy for simplifed random sampling using LR:\", accuracy)"
   ]
  },
  {
   "cell_type": "markdown",
   "metadata": {
    "id": "Xe1bQTnF0s5q"
   },
   "source": [
    "3. Cluster Sampling"
   ]
  },
  {
   "cell_type": "code",
   "execution_count": 20,
   "metadata": {
    "colab": {
     "base_uri": "https://localhost:8080/"
    },
    "id": "1wTUaAso0vuH",
    "outputId": "eaf37879-b0d6-4030-f0e2-1ab52fd892ce"
   },
   "outputs": [
    {
     "name": "stdout",
     "output_type": "stream",
     "text": [
      "Accuracy for cluster sampling using LR : 0.9431818181818182\n"
     ]
    }
   ],
   "source": [
    "X_cluster_sample = data_cluster_sample.drop('Class', axis = 1)\n",
    "y_cluster_sample = data_cluster_sample['Class']\n",
    "X_cluster_scaled = scaler.fit_transform(X_cluster_sample)\n",
    "X_train_cluster, X_test_cluster, y_train_cluster, y_test_cluster = train_test_split(X_cluster_scaled, y_cluster_sample, test_size=0.3, random_state=42)\n",
    "\n",
    "model.fit(X_train_cluster, y_train_cluster)\n",
    "y_pred = model.predict(X_test_cluster)\n",
    "\n",
    "accuracy = accuracy_score(y_test_cluster, y_pred)\n",
    "print(\"Accuracy for cluster sampling using LR :\", accuracy)"
   ]
  },
  {
   "cell_type": "markdown",
   "metadata": {
    "id": "TQp2SgEi1GPy"
   },
   "source": [
    "4. Bootstrap Sampling"
   ]
  },
  {
   "cell_type": "code",
   "execution_count": 21,
   "metadata": {
    "colab": {
     "base_uri": "https://localhost:8080/"
    },
    "id": "0IC0h-Ma1FjR",
    "outputId": "a7ce224e-874f-4325-d51f-8f8125f7d0ce"
   },
   "outputs": [
    {
     "name": "stdout",
     "output_type": "stream",
     "text": [
      "Accuracy for bootstrap sampling using LR : 0.9568965517241379\n"
     ]
    }
   ],
   "source": [
    "X_bootstrap_sample = data_bootstrap_sample.drop('Class', axis = 1)\n",
    "y_bootstrap_sample = data_bootstrap_sample['Class']\n",
    "X_bootstrap_scaled = scaler.fit_transform(X_bootstrap_sample)\n",
    "X_train_bootstrap, X_test_bootstrap, y_train_bootstrap, y_test_bootstrap = train_test_split(X_bootstrap_scaled, y_bootstrap_sample, test_size=0.3, random_state=42)\n",
    "\n",
    "model.fit(X_train_bootstrap, y_train_bootstrap)\n",
    "y_pred = model.predict(X_test_bootstrap)\n",
    "\n",
    "accuracy = accuracy_score(y_test_bootstrap, y_pred)\n",
    "print(\"Accuracy for bootstrap sampling using LR :\", accuracy)"
   ]
  },
  {
   "cell_type": "markdown",
   "metadata": {
    "id": "9XR3fGBp1ogO"
   },
   "source": [
    "**2. SVC SUPPORT VECTOR CLASSIFIER**"
   ]
  },
  {
   "cell_type": "markdown",
   "metadata": {
    "id": "vHb_YZj_1w25"
   },
   "source": [
    "1. Simple Random Sampling"
   ]
  },
  {
   "cell_type": "code",
   "execution_count": 22,
   "metadata": {
    "colab": {
     "base_uri": "https://localhost:8080/"
    },
    "id": "aTQ-yqIp10DJ",
    "outputId": "f5d97571-8a84-4d7b-f926-5a26bd18b061"
   },
   "outputs": [
    {
     "name": "stdout",
     "output_type": "stream",
     "text": [
      "Accuracy of Simple Random Sampling using SVC: 0.9137931034482759\n"
     ]
    }
   ],
   "source": [
    "from sklearn import svm\n",
    "model= svm.SVC()\n",
    "model.fit(X_train_random, y_train_random)\n",
    "y_pred = model.predict(X_test_random)\n",
    "accuracy = accuracy_score(y_test_random, y_pred)\n",
    "print(\"Accuracy of Simple Random Sampling using SVC:\", accuracy)"
   ]
  },
  {
   "cell_type": "markdown",
   "metadata": {
    "id": "D0dJauVW2EVk"
   },
   "source": [
    "2. Systematic Random Sampling"
   ]
  },
  {
   "cell_type": "code",
   "execution_count": 23,
   "metadata": {
    "colab": {
     "base_uri": "https://localhost:8080/"
    },
    "id": "VRAiiQXO2G6l",
    "outputId": "828a90f3-736e-459c-b5d7-fa85b257d7fb"
   },
   "outputs": [
    {
     "name": "stdout",
     "output_type": "stream",
     "text": [
      "Accuracy of Systematic Random Sampling using SVC: 0.9281045751633987\n"
     ]
    }
   ],
   "source": [
    "model.fit(X_train_systematic, y_train_systematic)\n",
    "y_pred = model.predict(X_test_systematic)\n",
    "accuracy = accuracy_score(y_test_systematic, y_pred)\n",
    "print(\"Accuracy of Systematic Random Sampling using SVC:\", accuracy)"
   ]
  },
  {
   "cell_type": "markdown",
   "metadata": {
    "id": "elV963yg2Pxh"
   },
   "source": [
    "3. Cluster Sampling"
   ]
  },
  {
   "cell_type": "code",
   "execution_count": 24,
   "metadata": {
    "colab": {
     "base_uri": "https://localhost:8080/"
    },
    "id": "qejymMBl2SDW",
    "outputId": "fc3ab2d9-5f72-477f-9b9e-29a9f1db4004"
   },
   "outputs": [
    {
     "name": "stdout",
     "output_type": "stream",
     "text": [
      "Accuracy of Cluster Sampling using SVC: 0.9659090909090909\n"
     ]
    }
   ],
   "source": [
    "model.fit(X_train_cluster, y_train_cluster)\n",
    "y_pred = model.predict(X_test_cluster)\n",
    "accuracy = accuracy_score(y_test_cluster, y_pred)\n",
    "print(\"Accuracy of Cluster Sampling using SVC:\", accuracy)"
   ]
  },
  {
   "cell_type": "markdown",
   "metadata": {
    "id": "kYCVHisa2a3K"
   },
   "source": [
    "4. Bootstrap Sampling"
   ]
  },
  {
   "cell_type": "code",
   "execution_count": 25,
   "metadata": {
    "colab": {
     "base_uri": "https://localhost:8080/"
    },
    "id": "mhATRQ3t2c-o",
    "outputId": "a822a9df-6e7a-4ce0-e854-2c2fcd0906db"
   },
   "outputs": [
    {
     "name": "stdout",
     "output_type": "stream",
     "text": [
      "Accuracy of Bootstrap Sampling using SVC: 0.9568965517241379\n"
     ]
    }
   ],
   "source": [
    "model.fit(X_train_bootstrap, y_train_bootstrap)\n",
    "y_pred = model.predict(X_test_bootstrap)\n",
    "accuracy = accuracy_score(y_test_bootstrap, y_pred)\n",
    "print(\"Accuracy of Bootstrap Sampling using SVC:\", accuracy)"
   ]
  },
  {
   "cell_type": "markdown",
   "metadata": {
    "id": "NyHZRfEB2rzA"
   },
   "source": [
    "**3. XGBOOST CLASSIFIER**"
   ]
  },
  {
   "cell_type": "markdown",
   "metadata": {
    "id": "xFTCaFEB25g3"
   },
   "source": [
    "1. Simple Random Sampling"
   ]
  },
  {
   "cell_type": "code",
   "execution_count": 26,
   "metadata": {
    "colab": {
     "base_uri": "https://localhost:8080/"
    },
    "id": "OKLQjJtj28Pu",
    "outputId": "f381489c-65d0-4626-e05d-66a046b18d16"
   },
   "outputs": [
    {
     "name": "stdout",
     "output_type": "stream",
     "text": [
      "Accuracy of Simple Random Sampling using xgb: 0.9482758620689655\n"
     ]
    }
   ],
   "source": [
    "import xgboost as xgb\n",
    "model = xgb.XGBClassifier()\n",
    "model.fit(X_train_random, y_train_random)\n",
    "y_pred = model.predict(X_test_random)\n",
    "accuracy = accuracy_score(y_test_random, y_pred)\n",
    "print(\"Accuracy of Simple Random Sampling using xgb:\", accuracy)"
   ]
  },
  {
   "cell_type": "markdown",
   "metadata": {
    "id": "l23xxPAL3Jwt"
   },
   "source": [
    "2. Systematic Random Sampling"
   ]
  },
  {
   "cell_type": "code",
   "execution_count": 27,
   "metadata": {
    "colab": {
     "base_uri": "https://localhost:8080/"
    },
    "id": "sEY9Vo1E3MP0",
    "outputId": "bacff19c-f324-482b-b31c-316939ff73b6"
   },
   "outputs": [
    {
     "name": "stdout",
     "output_type": "stream",
     "text": [
      "Accuracy of Systematic Random Sampling using xgb: 0.9869281045751634\n"
     ]
    }
   ],
   "source": [
    "model.fit(X_train_systematic, y_train_systematic)\n",
    "y_pred = model.predict(X_test_systematic)\n",
    "accuracy = accuracy_score(y_test_systematic, y_pred)\n",
    "print(\"Accuracy of Systematic Random Sampling using xgb:\", accuracy)"
   ]
  },
  {
   "cell_type": "markdown",
   "metadata": {
    "id": "2zZo94fh3RTA"
   },
   "source": [
    "3. Cluster Sampling"
   ]
  },
  {
   "cell_type": "code",
   "execution_count": 28,
   "metadata": {
    "colab": {
     "base_uri": "https://localhost:8080/"
    },
    "id": "Cb5P5O9o3Tjh",
    "outputId": "1fb7b6db-a850-4abf-8a42-9b83d664859d"
   },
   "outputs": [
    {
     "name": "stdout",
     "output_type": "stream",
     "text": [
      "Accuracy of Cluster Sampling using xgb: 0.9659090909090909\n"
     ]
    }
   ],
   "source": [
    "model.fit(X_train_cluster, y_train_cluster)\n",
    "y_pred = model.predict(X_test_cluster)\n",
    "accuracy = accuracy_score(y_test_cluster, y_pred)\n",
    "print(\"Accuracy of Cluster Sampling using xgb:\", accuracy)"
   ]
  },
  {
   "cell_type": "markdown",
   "metadata": {
    "id": "P21T9hiT3Yiz"
   },
   "source": [
    "4. Bootstrap Sampling"
   ]
  },
  {
   "cell_type": "code",
   "execution_count": 29,
   "metadata": {
    "colab": {
     "base_uri": "https://localhost:8080/"
    },
    "id": "q_E7LAJB3bC9",
    "outputId": "65dcac4c-b772-4269-e69a-18cc479c86fe"
   },
   "outputs": [
    {
     "name": "stdout",
     "output_type": "stream",
     "text": [
      "Accuracy of Bootstrap Sampling using xgb: 0.9741379310344828\n"
     ]
    }
   ],
   "source": [
    "model.fit(X_train_bootstrap, y_train_bootstrap)\n",
    "y_pred = model.predict(X_test_bootstrap)\n",
    "accuracy = accuracy_score(y_test_bootstrap, y_pred)\n",
    "print(\"Accuracy of Bootstrap Sampling using xgb:\", accuracy)"
   ]
  },
  {
   "cell_type": "markdown",
   "metadata": {
    "id": "MeavGkqX3hn0"
   },
   "source": [
    "**4. RANDOM FOREST**"
   ]
  },
  {
   "cell_type": "markdown",
   "metadata": {
    "id": "B50jJJm33lbj"
   },
   "source": [
    "1. Simple Random Sampling"
   ]
  },
  {
   "cell_type": "code",
   "execution_count": 30,
   "metadata": {
    "colab": {
     "base_uri": "https://localhost:8080/"
    },
    "id": "YBdsWH963ni-",
    "outputId": "19daff48-b4f3-4bbb-c6ca-4438275164e6"
   },
   "outputs": [
    {
     "name": "stdout",
     "output_type": "stream",
     "text": [
      "Accuracy of Simple Random Sampling using RF: 0.9655172413793104\n"
     ]
    }
   ],
   "source": [
    "from sklearn.ensemble import RandomForestClassifier\n",
    "model = RandomForestClassifier(n_estimators=20, random_state=42)\n",
    "model.fit(X_train_random, y_train_random)\n",
    "y_pred = model.predict(X_test_random)\n",
    "accuracy = accuracy_score(y_test_random, y_pred)\n",
    "print(\"Accuracy of Simple Random Sampling using RF:\", accuracy)"
   ]
  },
  {
   "cell_type": "markdown",
   "metadata": {
    "id": "6I3kVyZT3ylf"
   },
   "source": [
    "2. Sytematic Random Sampling"
   ]
  },
  {
   "cell_type": "code",
   "execution_count": 31,
   "metadata": {
    "colab": {
     "base_uri": "https://localhost:8080/"
    },
    "id": "3B5I_EZg31YX",
    "outputId": "daac0c6b-0422-4c3e-aba4-be622421f524"
   },
   "outputs": [
    {
     "name": "stdout",
     "output_type": "stream",
     "text": [
      "Accuracy of Systematic Random Sampling using RF: 0.9934640522875817\n"
     ]
    }
   ],
   "source": [
    "model.fit(X_train_systematic, y_train_systematic)\n",
    "y_pred = model.predict(X_test_systematic)\n",
    "accuracy = accuracy_score(y_test_systematic, y_pred)\n",
    "print(\"Accuracy of Systematic Random Sampling using RF:\", accuracy)"
   ]
  },
  {
   "cell_type": "markdown",
   "metadata": {
    "id": "BfpAmuFW36dp"
   },
   "source": [
    "3. Cluster Sampling"
   ]
  },
  {
   "cell_type": "code",
   "execution_count": 32,
   "metadata": {
    "colab": {
     "base_uri": "https://localhost:8080/"
    },
    "id": "p0IJZHo238xk",
    "outputId": "9ca20c4b-9291-44fe-9f5e-891b68be97d4"
   },
   "outputs": [
    {
     "name": "stdout",
     "output_type": "stream",
     "text": [
      "Accuracy of Cluster Sampling using RF: 0.9659090909090909\n"
     ]
    }
   ],
   "source": [
    "model.fit(X_train_cluster, y_train_cluster)\n",
    "y_pred = model.predict(X_test_cluster)\n",
    "accuracy = accuracy_score(y_test_cluster, y_pred)\n",
    "print(\"Accuracy of Cluster Sampling using RF:\", accuracy)"
   ]
  },
  {
   "cell_type": "markdown",
   "metadata": {
    "id": "JKdBo9zg4A06"
   },
   "source": [
    "4. Bootstrap Sampling"
   ]
  },
  {
   "cell_type": "code",
   "execution_count": 33,
   "metadata": {
    "colab": {
     "base_uri": "https://localhost:8080/"
    },
    "id": "E3OTx9ZH4EH4",
    "outputId": "9f881930-a0f3-41e4-9f48-a82ddda01ab1"
   },
   "outputs": [
    {
     "name": "stdout",
     "output_type": "stream",
     "text": [
      "Accuracy of Bootstrap Sampling using RF: 1.0\n"
     ]
    }
   ],
   "source": [
    "model.fit(X_train_bootstrap, y_train_bootstrap)\n",
    "y_pred = model.predict(X_test_bootstrap)\n",
    "accuracy = accuracy_score(y_test_bootstrap, y_pred)\n",
    "print(\"Accuracy of Bootstrap Sampling using RF:\", accuracy)"
   ]
  },
  {
   "cell_type": "markdown",
   "metadata": {
    "id": "leToYPCs4KdG"
   },
   "source": [
    "\n",
    "\n",
    "**5. GAUSSIAN NAIVE BAYES**"
   ]
  },
  {
   "cell_type": "markdown",
   "metadata": {
    "id": "lMOUgGqX4T01"
   },
   "source": [
    "1. Simple Random Sampling"
   ]
  },
  {
   "cell_type": "code",
   "execution_count": 34,
   "metadata": {
    "colab": {
     "base_uri": "https://localhost:8080/"
    },
    "id": "vby2guJu4XBH",
    "outputId": "c7155bf6-91da-4f90-b9f5-4c437a389420"
   },
   "outputs": [
    {
     "name": "stdout",
     "output_type": "stream",
     "text": [
      "Accuracy of Simple Random Sampling using NB: 0.6810344827586207\n"
     ]
    }
   ],
   "source": [
    "from sklearn.naive_bayes import GaussianNB\n",
    "model = GaussianNB()\n",
    "model.fit(X_train_random, y_train_random)\n",
    "y_pred = model.predict(X_test_random)\n",
    "accuracy = accuracy_score(y_test_random, y_pred)\n",
    "print(\"Accuracy of Simple Random Sampling using NB:\", accuracy)"
   ]
  },
  {
   "cell_type": "markdown",
   "metadata": {
    "id": "YS6YYZlB4fy-"
   },
   "source": [
    "2. Systematic Random Sampling"
   ]
  },
  {
   "cell_type": "code",
   "execution_count": 35,
   "metadata": {
    "colab": {
     "base_uri": "https://localhost:8080/"
    },
    "id": "9mwKPc6k4jPa",
    "outputId": "4dc8f434-fafc-42ab-8bb2-5f8c3679bace"
   },
   "outputs": [
    {
     "name": "stdout",
     "output_type": "stream",
     "text": [
      "Accuracy of Systematic Random Sampling using NB: 0.8431372549019608\n"
     ]
    }
   ],
   "source": [
    "model.fit(X_train_systematic, y_train_systematic)\n",
    "y_pred = model.predict(X_test_systematic)\n",
    "accuracy = accuracy_score(y_test_systematic, y_pred)\n",
    "print(\"Accuracy of Systematic Random Sampling using NB:\", accuracy)"
   ]
  },
  {
   "cell_type": "markdown",
   "metadata": {
    "id": "VPuvwlXh4oBq"
   },
   "source": [
    "3. Cluster Sampling"
   ]
  },
  {
   "cell_type": "code",
   "execution_count": 36,
   "metadata": {
    "colab": {
     "base_uri": "https://localhost:8080/"
    },
    "id": "vs5I97_A4qI0",
    "outputId": "bb8319a9-1fb7-48d1-b199-2488af4063dc"
   },
   "outputs": [
    {
     "name": "stdout",
     "output_type": "stream",
     "text": [
      "Accuracy of Cluster Sampling using NB: 0.8181818181818182\n"
     ]
    }
   ],
   "source": [
    "model.fit(X_train_cluster, y_train_cluster)\n",
    "y_pred = model.predict(X_test_cluster)\n",
    "accuracy = accuracy_score(y_test_cluster, y_pred)\n",
    "print(\"Accuracy of Cluster Sampling using NB:\", accuracy)"
   ]
  },
  {
   "cell_type": "markdown",
   "metadata": {
    "id": "cuyOrM1X4uHP"
   },
   "source": [
    "4. Bootstrap Sampling"
   ]
  },
  {
   "cell_type": "code",
   "execution_count": 37,
   "metadata": {
    "colab": {
     "base_uri": "https://localhost:8080/"
    },
    "id": "W72aV0Q_4wqz",
    "outputId": "88f2cd66-2a66-4469-f77d-66289340c418"
   },
   "outputs": [
    {
     "name": "stdout",
     "output_type": "stream",
     "text": [
      "Accuracy of Bootstrap Sampling using NB: 0.8620689655172413\n"
     ]
    }
   ],
   "source": [
    "model.fit(X_train_bootstrap, y_train_bootstrap)\n",
    "y_pred = model.predict(X_test_bootstrap)\n",
    "accuracy = accuracy_score(y_test_bootstrap, y_pred)\n",
    "print(\"Accuracy of Bootstrap Sampling using NB:\", accuracy)"
   ]
  },
  {
   "cell_type": "code",
   "execution_count": null,
   "metadata": {},
   "outputs": [],
   "source": []
  },
  {
   "cell_type": "code",
   "execution_count": null,
   "metadata": {},
   "outputs": [],
   "source": []
  }
 ],
 "metadata": {
  "colab": {
   "provenance": []
  },
  "kernelspec": {
   "display_name": "Python 3 (ipykernel)",
   "language": "python",
   "name": "python3"
  },
  "language_info": {
   "codemirror_mode": {
    "name": "ipython",
    "version": 3
   },
   "file_extension": ".py",
   "mimetype": "text/x-python",
   "name": "python",
   "nbconvert_exporter": "python",
   "pygments_lexer": "ipython3",
   "version": "3.11.5"
  }
 },
 "nbformat": 4,
 "nbformat_minor": 1
}
